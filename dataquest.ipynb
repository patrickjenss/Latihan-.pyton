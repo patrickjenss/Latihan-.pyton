{
 "cells": [
  {
   "cell_type": "code",
   "execution_count": 11,
   "id": "6f80e6ad-8910-424a-833b-9b65d1f56fb4",
   "metadata": {},
   "outputs": [
    {
     "name": "stdout",
     "output_type": "stream",
     "text": [
      "Apps Store Data\n",
      "\n",
      "['id', 'track_name', 'size_bytes', 'currency', 'price', 'rating_count_tot', 'rating_count_ver', 'user_rating', 'user_rating_ver', 'ver', 'cont_rating', 'prime_genre', 'sup_devices.num', 'ipadSc_urls.num', 'lang.num', 'vpp_lic']\n",
      "\n",
      "\n",
      "['284882215', 'Facebook', '389879808', 'USD', '0.0', '2974676', '212', '3.5', '3.5', '95.0', '4+', 'Social Networking', '37', '1', '29', '1']\n",
      "\n",
      "\n",
      "['389801252', 'Instagram', '113954816', 'USD', '0.0', '2161558', '1289', '4.5', '4.0', '10.23', '12+', 'Photo & Video', '37', '0', '29', '1']\n",
      "\n",
      "\n",
      "['529479190', 'Clash of Clans', '116476928', 'USD', '0.0', '2130805', '579', '4.5', '4.5', '9.24.12', '9+', 'Games', '38', '5', '18', '1']\n",
      "\n",
      "\n",
      "['420009108', 'Temple Run', '65921024', 'USD', '0.0', '1724546', '3842', '4.5', '4.0', '1.6.2', '9+', 'Games', '40', '5', '1', '1']\n",
      "\n",
      "\n",
      "Number of row: 7198\n",
      "Number of columns: 16\n",
      "\n",
      "Google Play Data\n",
      "\n",
      "['App', 'Category', 'Rating', 'Reviews', 'Size', 'Installs', 'Type', 'Price', 'Content Rating', 'Genres', 'Last Updated', 'Current Ver', 'Android Ver']\n",
      "\n",
      "\n",
      "['Photo Editor & Candy Camera & Grid & ScrapBook', 'ART_AND_DESIGN', '4.1', '159', '19M', '10,000+', 'Free', '0', 'Everyone', 'Art & Design', 'January 7, 2018', '1.0.0', '4.0.3 and up']\n",
      "\n",
      "\n",
      "['Coloring book moana', 'ART_AND_DESIGN', '3.9', '967', '14M', '500,000+', 'Free', '0', 'Everyone', 'Art & Design;Pretend Play', 'January 15, 2018', '2.0.0', '4.0.3 and up']\n",
      "\n",
      "\n",
      "['U Launcher Lite – FREE Live Cool Themes, Hide Apps', 'ART_AND_DESIGN', '4.7', '87510', '8.7M', '5,000,000+', 'Free', '0', 'Everyone', 'Art & Design', 'August 1, 2018', '1.2.4', '4.0.3 and up']\n",
      "\n",
      "\n",
      "['Sketch - Draw & Paint', 'ART_AND_DESIGN', '4.5', '215644', '25M', '50,000,000+', 'Free', '0', 'Teen', 'Art & Design', 'June 8, 2018', 'Varies with device', '4.2 and up']\n",
      "\n",
      "\n",
      "Number of row: 10842\n",
      "Number of columns: 13\n"
     ]
    }
   ],
   "source": [
    "import csv\n",
    "\n",
    "# Buka file App Store\n",
    "with open('AppleStore.csv', encoding='utf8') as file:\n",
    "    reader = csv.reader(file)\n",
    "    ios_data = list(reader)\n",
    "    ios_header = ios_data[0] \n",
    "    ios = ios_data[1:]  \n",
    "\n",
    "# Buka file Google Play\n",
    "with open('googleplaystore.csv', encoding='utf8') as file:\n",
    "    reader = csv.reader(file)\n",
    "    android_data = list(reader)\n",
    "    android_header = android_data[0]  \n",
    "    android = android_data[1:]  \n",
    "    \n",
    "def explore_data (dataset, start, end, row_and_columns = False):\n",
    "    \n",
    "    data_slice = dataset[start:end]\n",
    "    for row in data_slice:\n",
    "        print(row)\n",
    "        print(\"\\n\")\n",
    "\n",
    "    if row_and_columns:\n",
    "        print(\"Number of row:\", len(dataset))\n",
    "        print(\"Number of columns:\", len(dataset[0]))\n",
    "\n",
    "print(\"Apps Store Data\\n\")\n",
    "explore_data(ios_data, 0 ,5 ,True)\n",
    "\n",
    "print(\"\\nGoogle Play Data\\n\")\n",
    "explore_data(android_data, 0, 5, True)"
   ]
  },
  {
   "cell_type": "code",
   "execution_count": 12,
   "id": "efd14221-ce9b-4e82-9227-bed626652e85",
   "metadata": {},
   "outputs": [
    {
     "name": "stdout",
     "output_type": "stream",
     "text": [
      "Wrong row in index: 10472\n",
      "['Life Made WI-Fi Touchscreen Photo Frame', '1.9', '19', '3.0M', '1,000+', 'Free', '0', 'Everyone', '', 'February 11, 2018', '1.0.19', '4.0 and up']\n",
      "Number of columns: 12\n"
     ]
    }
   ],
   "source": [
    "for i, row in enumerate(android):\n",
    "    if len(row) != len(android[0]):\n",
    "        print(f\"Wrong row in index: {i}\")\n",
    "        print(row)\n",
    "        print(\"Number of columns:\", len(row))\n",
    "\n",
    "\n",
    "for i, row in enumerate(ios):\n",
    "    if len(row) != len(ios[0]):\n",
    "        print(f\"Wrong row in index: {i}\")\n",
    "        print(row)\n",
    "        print(\"Number of columns:\", len(row))"
   ]
  },
  {
   "cell_type": "code",
   "execution_count": 13,
   "id": "26c56c80-4328-4ace-ad82-01c21d91d6c2",
   "metadata": {},
   "outputs": [
    {
     "name": "stdout",
     "output_type": "stream",
     "text": [
      "10841\n",
      "10840\n"
     ]
    }
   ],
   "source": [
    "print(len(android))\n",
    "del android[10472]  \n",
    "print(len(android))"
   ]
  },
  {
   "cell_type": "code",
   "execution_count": 14,
   "id": "ce71158b-802d-4e5e-85e6-383ab61ff638",
   "metadata": {},
   "outputs": [
    {
     "name": "stdout",
     "output_type": "stream",
     "text": [
      "Number of duliplicate_apps: 1181\n",
      "\n",
      "\n",
      "Examples of duplicates: ['Quick PDF Scanner + OCR FREE', 'Box', 'Google My Business', 'ZOOM Cloud Meetings', 'join.me - Simple Meetings', 'Box', 'Zenefits', 'Google Ads', 'Google My Business', 'Slack', 'FreshBooks Classic', 'Insightly CRM', 'QuickBooks Accounting: Invoicing & Expenses', 'HipChat - Chat Built for Teams', 'Xero Accounting Software']\n"
     ]
    }
   ],
   "source": [
    "duplicate_data= []\n",
    "unique_data = []\n",
    "\n",
    "for app in android[1:]:\n",
    "    nama = app[0]\n",
    "    if nama in unique_data:\n",
    "        duplicate_data.append(nama)\n",
    "    else:\n",
    "        unique_data.append(nama)\n",
    "\n",
    "print(\"Number of duliplicate_apps:\", len(duplicate_data))\n",
    "print(\"\\n\")\n",
    "print('Examples of duplicates:', duplicate_data[:15])"
   ]
  },
  {
   "cell_type": "code",
   "execution_count": 15,
   "id": "fba48531-6e25-46f5-b766-1a03ad71a341",
   "metadata": {},
   "outputs": [
    {
     "name": "stdout",
     "output_type": "stream",
     "text": [
      "['Instagram', 'SOCIAL', '4.5', '66577313', 'Varies with device', '1,000,000,000+', 'Free', '0', 'Teen', 'Social', 'July 31, 2018', 'Varies with device', 'Varies with device']\n",
      "['Instagram', 'SOCIAL', '4.5', '66577446', 'Varies with device', '1,000,000,000+', 'Free', '0', 'Teen', 'Social', 'July 31, 2018', 'Varies with device', 'Varies with device']\n",
      "['Instagram', 'SOCIAL', '4.5', '66577313', 'Varies with device', '1,000,000,000+', 'Free', '0', 'Teen', 'Social', 'July 31, 2018', 'Varies with device', 'Varies with device']\n",
      "['Instagram', 'SOCIAL', '4.5', '66509917', 'Varies with device', '1,000,000,000+', 'Free', '0', 'Teen', 'Social', 'July 31, 2018', 'Varies with device', 'Varies with device']\n"
     ]
    }
   ],
   "source": [
    "for app in android:\n",
    "    name = app[0]\n",
    "\n",
    "    if name == \"Instagram\":\n",
    "        print(app)"
   ]
  },
  {
   "cell_type": "code",
   "execution_count": 16,
   "id": "0f11ee77-5aab-4215-b986-52512ea0c78b",
   "metadata": {},
   "outputs": [
    {
     "name": "stdout",
     "output_type": "stream",
     "text": [
      "Expected length: 9659\n"
     ]
    }
   ],
   "source": [
    "print(\"Expected length:\", len(android) - 1181)"
   ]
  },
  {
   "cell_type": "code",
   "execution_count": 17,
   "id": "3ca53445-e727-4b1d-b194-4f3156d27d8d",
   "metadata": {},
   "outputs": [
    {
     "name": "stdout",
     "output_type": "stream",
     "text": [
      "9659\n"
     ]
    }
   ],
   "source": [
    "reviews_max = {}\n",
    "for app in android:\n",
    "    name = app[0]\n",
    "    n_reviews = float(app[3])\n",
    "\n",
    "    if (name not in reviews_max) or ( n_reviews > reviews_max[name]):\n",
    "        reviews_max[name] = n_reviews\n",
    "\n",
    "print(len(reviews_max))"
   ]
  },
  {
   "cell_type": "code",
   "execution_count": 18,
   "id": "d271455a-59f9-470d-9b2f-42e5b16fad3c",
   "metadata": {},
   "outputs": [
    {
     "name": "stdout",
     "output_type": "stream",
     "text": [
      "9659\n"
     ]
    }
   ],
   "source": [
    "print(len(reviews_max))"
   ]
  },
  {
   "cell_type": "code",
   "execution_count": 19,
   "id": "c9b4d50d-eda7-4b86-8a42-9c07a574a0fd",
   "metadata": {},
   "outputs": [
    {
     "name": "stdout",
     "output_type": "stream",
     "text": [
      "Jumlah data sebelum dibersihkan: 10840\n",
      "Jumlah data setelah dibersihkan: 9659\n",
      "['Photo Editor & Candy Camera & Grid & ScrapBook', 'ART_AND_DESIGN', '4.1', '159', '19M', '10,000+', 'Free', '0', 'Everyone', 'Art & Design', 'January 7, 2018', '1.0.0', '4.0.3 and up']\n",
      "\n",
      "\n",
      "['U Launcher Lite – FREE Live Cool Themes, Hide Apps', 'ART_AND_DESIGN', '4.7', '87510', '8.7M', '5,000,000+', 'Free', '0', 'Everyone', 'Art & Design', 'August 1, 2018', '1.2.4', '4.0.3 and up']\n",
      "\n",
      "\n",
      "['Sketch - Draw & Paint', 'ART_AND_DESIGN', '4.5', '215644', '25M', '50,000,000+', 'Free', '0', 'Teen', 'Art & Design', 'June 8, 2018', 'Varies with device', '4.2 and up']\n",
      "\n",
      "\n",
      "Number of row: 9659\n",
      "Number of columns: 13\n"
     ]
    }
   ],
   "source": [
    "android_clean = []\n",
    "already_add = []\n",
    "\n",
    "for app in android:\n",
    "    name = app[0]\n",
    "    n_reviews = float(app[3])\n",
    "\n",
    "    if (reviews_max[name] == n_reviews) and (name not in already_add):\n",
    "        android_clean.append(app)\n",
    "        already_add.append(name)\n",
    "\n",
    "\n",
    "\n",
    "print('Jumlah data sebelum dibersihkan:', len(android))\n",
    "print('Jumlah data setelah dibersihkan:', len(android_clean))\n",
    "\n",
    "explore_data(android_clean, 0, 3, True)"
   ]
  },
  {
   "cell_type": "code",
   "execution_count": 20,
   "id": "68399eac-7b68-47fc-84b6-e3a61d8eebbb",
   "metadata": {},
   "outputs": [
    {
     "name": "stdout",
     "output_type": "stream",
     "text": [
      "Jumlah baris total sebelum buang header: 10842\n",
      "Baris pertama (header): ['App', 'Category', 'Rating', 'Reviews', 'Size', 'Installs', 'Type', 'Price', 'Content Rating', 'Genres', 'Last Updated', 'Current Ver', 'Android Ver']\n",
      "Baris kedua (data pertama): ['Photo Editor & Candy Camera & Grid & ScrapBook', 'ART_AND_DESIGN', '4.1', '159', '19M', '10,000+', 'Free', '0', 'Everyone', 'Art & Design', 'January 7, 2018', '1.0.0', '4.0.3 and up']\n"
     ]
    }
   ],
   "source": [
    "print(\"Jumlah baris total sebelum buang header:\", len(android_data))\n",
    "print(\"Baris pertama (header):\", android_data[0])\n",
    "print(\"Baris kedua (data pertama):\", android_data[1])"
   ]
  },
  {
   "cell_type": "code",
   "execution_count": 10,
   "id": "d1459083-c76f-448b-b400-fbf13806e56b",
   "metadata": {},
   "outputs": [
    {
     "name": "stdout",
     "output_type": "stream",
     "text": [
      "['Photo Editor & Candy Camera & Grid & ScrapBook', 'ART_AND_DESIGN', '4.1', '159', '19M', '10,000+', 'Free', '0', 'Everyone', 'Art & Design', 'January 7, 2018', '1.0.0', '4.0.3 and up']\n",
      "['Coloring book moana', 'ART_AND_DESIGN', '3.9', '967', '14M', '500,000+', 'Free', '0', 'Everyone', 'Art & Design;Pretend Play', 'January 15, 2018', '2.0.0', '4.0.3 and up']\n",
      "['U Launcher Lite – FREE Live Cool Themes, Hide Apps', 'ART_AND_DESIGN', '4.7', '87510', '8.7M', '5,000,000+', 'Free', '0', 'Everyone', 'Art & Design', 'August 1, 2018', '1.2.4', '4.0.3 and up']\n",
      "['Sketch - Draw & Paint', 'ART_AND_DESIGN', '4.5', '215644', '25M', '50,000,000+', 'Free', '0', 'Teen', 'Art & Design', 'June 8, 2018', 'Varies with device', '4.2 and up']\n",
      "['Pixel Draw - Number Art Coloring Book', 'ART_AND_DESIGN', '4.3', '967', '2.8M', '100,000+', 'Free', '0', 'Everyone', 'Art & Design;Creativity', 'June 20, 2018', '1.1', '4.4 and up']\n",
      "['Paper flowers instructions', 'ART_AND_DESIGN', '4.4', '167', '5.6M', '50,000+', 'Free', '0', 'Everyone', 'Art & Design', 'March 26, 2017', '1.0', '2.3 and up']\n",
      "['Smoke Effect Photo Maker - Smoke Editor', 'ART_AND_DESIGN', '3.8', '178', '19M', '50,000+', 'Free', '0', 'Everyone', 'Art & Design', 'April 26, 2018', '1.1', '4.0.3 and up']\n",
      "['Infinite Painter', 'ART_AND_DESIGN', '4.1', '36815', '29M', '1,000,000+', 'Free', '0', 'Everyone', 'Art & Design', 'June 14, 2018', '6.1.61.1', '4.2 and up']\n",
      "['Garden Coloring Book', 'ART_AND_DESIGN', '4.4', '13791', '33M', '1,000,000+', 'Free', '0', 'Everyone', 'Art & Design', 'September 20, 2017', '2.9.2', '3.0 and up']\n",
      "['Kids Paint Free - Drawing Fun', 'ART_AND_DESIGN', '4.7', '121', '3.1M', '10,000+', 'Free', '0', 'Everyone', 'Art & Design;Creativity', 'July 3, 2018', '2.8', '4.0.3 and up']\n",
      "['Text on Photo - Fonteee', 'ART_AND_DESIGN', '4.4', '13880', '28M', '1,000,000+', 'Free', '0', 'Everyone', 'Art & Design', 'October 27, 2017', '1.0.4', '4.1 and up']\n",
      "['Name Art Photo Editor - Focus n Filters', 'ART_AND_DESIGN', '4.4', '8788', '12M', '1,000,000+', 'Free', '0', 'Everyone', 'Art & Design', 'July 31, 2018', '1.0.15', '4.0 and up']\n",
      "['Tattoo Name On My Photo Editor', 'ART_AND_DESIGN', '4.2', '44829', '20M', '10,000,000+', 'Free', '0', 'Teen', 'Art & Design', 'April 2, 2018', '3.8', '4.1 and up']\n",
      "['Mandala Coloring Book', 'ART_AND_DESIGN', '4.6', '4326', '21M', '100,000+', 'Free', '0', 'Everyone', 'Art & Design', 'June 26, 2018', '1.0.4', '4.4 and up']\n",
      "['3D Color Pixel by Number - Sandbox Art Coloring', 'ART_AND_DESIGN', '4.4', '1518', '37M', '100,000+', 'Free', '0', 'Everyone', 'Art & Design', 'August 3, 2018', '1.2.3', '2.3 and up']\n",
      "['Learn To Draw Kawaii Characters', 'ART_AND_DESIGN', '3.2', '55', '2.7M', '5,000+', 'Free', '0', 'Everyone', 'Art & Design', 'June 6, 2018', 'NaN', '4.2 and up']\n",
      "['Photo Designer - Write your name with shapes', 'ART_AND_DESIGN', '4.7', '3632', '5.5M', '500,000+', 'Free', '0', 'Everyone', 'Art & Design', 'July 31, 2018', '3.1', '4.1 and up']\n",
      "['350 Diy Room Decor Ideas', 'ART_AND_DESIGN', '4.5', '27', '17M', '10,000+', 'Free', '0', 'Everyone', 'Art & Design', 'November 7, 2017', '1.0', '2.3 and up']\n",
      "['FlipaClip - Cartoon animation', 'ART_AND_DESIGN', '4.3', '194216', '39M', '5,000,000+', 'Free', '0', 'Everyone', 'Art & Design', 'August 3, 2018', '2.2.5', '4.0.3 and up']\n",
      "['ibis Paint X', 'ART_AND_DESIGN', '4.6', '224399', '31M', '10,000,000+', 'Free', '0', 'Everyone', 'Art & Design', 'July 30, 2018', '5.5.4', '4.1 and up']\n"
     ]
    }
   ],
   "source": [
    "for app in android[:20]:\n",
    "    name = app[0]\n",
    "    print(app)"
   ]
  },
  {
   "cell_type": "code",
   "execution_count": 21,
   "id": "e9c863d0-cd1e-43e5-9598-5742eb183306",
   "metadata": {},
   "outputs": [],
   "source": [
    "def is_english(string):\n",
    "    non_ascii = 0\n",
    "\n",
    "    for character in string:\n",
    "        if ord(character) > 127:\n",
    "            non_ascii += 1\n",
    "\n",
    "    if non_ascii > 3:\n",
    "        return False\n",
    "    else:\n",
    "        return True\n",
    "    "
   ]
  },
  {
   "cell_type": "code",
   "execution_count": 22,
   "id": "2f3aa7b4-0a23-483d-8378-e4a8632219a8",
   "metadata": {},
   "outputs": [
    {
     "name": "stdout",
     "output_type": "stream",
     "text": [
      "['Photo Editor & Candy Camera & Grid & ScrapBook', 'ART_AND_DESIGN', '4.1', '159', '19M', '10,000+', 'Free', '0', 'Everyone', 'Art & Design', 'January 7, 2018', '1.0.0', '4.0.3 and up']\n",
      "\n",
      "\n",
      "['U Launcher Lite – FREE Live Cool Themes, Hide Apps', 'ART_AND_DESIGN', '4.7', '87510', '8.7M', '5,000,000+', 'Free', '0', 'Everyone', 'Art & Design', 'August 1, 2018', '1.2.4', '4.0.3 and up']\n",
      "\n",
      "\n",
      "['Sketch - Draw & Paint', 'ART_AND_DESIGN', '4.5', '215644', '25M', '50,000,000+', 'Free', '0', 'Teen', 'Art & Design', 'June 8, 2018', 'Varies with device', '4.2 and up']\n",
      "\n",
      "\n",
      "['Pixel Draw - Number Art Coloring Book', 'ART_AND_DESIGN', '4.3', '967', '2.8M', '100,000+', 'Free', '0', 'Everyone', 'Art & Design;Creativity', 'June 20, 2018', '1.1', '4.4 and up']\n",
      "\n",
      "\n",
      "['Paper flowers instructions', 'ART_AND_DESIGN', '4.4', '167', '5.6M', '50,000+', 'Free', '0', 'Everyone', 'Art & Design', 'March 26, 2017', '1.0', '2.3 and up']\n",
      "\n",
      "\n",
      "Number of row: 9659\n",
      "Number of columns: 13\n"
     ]
    }
   ],
   "source": [
    "android_english = []\n",
    "\n",
    "for app in android_clean:\n",
    "    nama = app[0]\n",
    "\n",
    "    if is_english(name):\n",
    "        android_english.append(app)\n",
    "\n",
    "explore_data(android_english,0 ,5 , True)"
   ]
  },
  {
   "cell_type": "code",
   "execution_count": 23,
   "id": "0edecf53-33ae-4c77-9183-89537d976157",
   "metadata": {},
   "outputs": [
    {
     "name": "stdout",
     "output_type": "stream",
     "text": [
      "['284882215', 'Facebook', '389879808', 'USD', '0.0', '2974676', '212', '3.5', '3.5', '95.0', '4+', 'Social Networking', '37', '1', '29', '1']\n",
      "\n",
      "\n",
      "['389801252', 'Instagram', '113954816', 'USD', '0.0', '2161558', '1289', '4.5', '4.0', '10.23', '12+', 'Photo & Video', '37', '0', '29', '1']\n",
      "\n",
      "\n",
      "['529479190', 'Clash of Clans', '116476928', 'USD', '0.0', '2130805', '579', '4.5', '4.5', '9.24.12', '9+', 'Games', '38', '5', '18', '1']\n",
      "\n",
      "\n",
      "['420009108', 'Temple Run', '65921024', 'USD', '0.0', '1724546', '3842', '4.5', '4.0', '1.6.2', '9+', 'Games', '40', '5', '1', '1']\n",
      "\n",
      "\n",
      "['284035177', 'Pandora - Music & Radio', '130242560', 'USD', '0.0', '1126879', '3594', '4.0', '4.5', '8.4.1', '12+', 'Music', '37', '4', '1', '1']\n",
      "\n",
      "\n",
      "Number of row: 6183\n",
      "Number of columns: 16\n"
     ]
    }
   ],
   "source": [
    "ios_english = []\n",
    "\n",
    "for app in ios:\n",
    "    name = app[1]\n",
    "\n",
    "    if is_english(name) :\n",
    "        ios_english.append(app)\n",
    "\n",
    "explore_data(ios_english, 0, 5, True)"
   ]
  },
  {
   "cell_type": "code",
   "execution_count": 39,
   "id": "c2d91cc2-083e-4f9c-81d4-971c9bc1354c",
   "metadata": {},
   "outputs": [
    {
     "name": "stdout",
     "output_type": "stream",
     "text": [
      "8905\n",
      "3222\n"
     ]
    }
   ],
   "source": [
    "android_final = []\n",
    "ios_final = []\n",
    "\n",
    "for app in android_english:\n",
    "    price = app[7]\n",
    "    if price == \"0\":\n",
    "        android_final.append(app)\n",
    "\n",
    "for app in ios_english:\n",
    "    price = app[4]\n",
    "    if price == \"0.0\":\n",
    "        ios_final.append(app)\n",
    "\n",
    "print(len(android_final))\n",
    "print(len(ios_final))"
   ]
  },
  {
   "cell_type": "code",
   "execution_count": null,
   "id": "3c9eac6b-f922-4945-b0e9-9d5707792d8e",
   "metadata": {},
   "outputs": [],
   "source": [
    "\n"
   ]
  },
  {
   "cell_type": "code",
   "execution_count": null,
   "id": "28627b4e-1ce5-4b26-856b-7782e7bc2907",
   "metadata": {},
   "outputs": [],
   "source": []
  }
 ],
 "metadata": {
  "kernelspec": {
   "display_name": "Python 3 (ipykernel)",
   "language": "python",
   "name": "python3"
  },
  "language_info": {
   "codemirror_mode": {
    "name": "ipython",
    "version": 3
   },
   "file_extension": ".py",
   "mimetype": "text/x-python",
   "name": "python",
   "nbconvert_exporter": "python",
   "pygments_lexer": "ipython3",
   "version": "3.12.7"
  }
 },
 "nbformat": 4,
 "nbformat_minor": 5
}
